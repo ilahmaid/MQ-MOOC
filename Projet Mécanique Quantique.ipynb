{
 "cells": [
  {
   "cell_type": "markdown",
   "metadata": {},
   "source": [
    "# Projet PHYS-F-302 2019-2020  \n",
    "##### Ducarme Eliott & Lahmaïd Ismaël"
   ]
  },
  {
   "cell_type": "code",
   "execution_count": 1,
   "metadata": {},
   "outputs": [],
   "source": [
    "import numpy as np\n",
    "from matplotlib import pyplot\n",
    "import numba\n",
    "from numba import jit"
   ]
  },
  {
   "cell_type": "code",
   "execution_count": 2,
   "metadata": {},
   "outputs": [],
   "source": [
    "# Paramètres\n",
    "nx = 101\n",
    "xmin = 0\n",
    "xmax = 1\n",
    "\n",
    "l2_target = 1e-8\n",
    "\n",
    "dx =(xmax-xmin)/(nx-1)\n",
    "x = np.linspace(xmin,xmax,nx)\n",
    "\n",
    "f_d = np.linspace(0,1,nx) #Ligne droite\n",
    "f_0 = np.zeros(nx)        #Matrice nulle\n",
    "f_0[-1] = 1 #Conditions de Dirichlet pour la dernière valeur de notre matrice\n",
    "\n",
    "#erreur en norme L2\n",
    "@jit\n",
    "def L2_rel_error(p, pn):\n",
    "    ''' Compute the relative L2 norm of the difference\n",
    "    Parameters:\n",
    "    ----------\n",
    "    p : array of float\n",
    "        array 1\n",
    "    pn: array of float\n",
    "        array 2\n",
    "    Returns:\n",
    "    -------\n",
    "    Relative L2 norm of the difference\n",
    "    '''\n",
    "    return np.sqrt(np.sum((p - pn)**2)/np.sum(pn**2))"
   ]
  },
  {
   "cell_type": "markdown",
   "metadata": {},
   "source": [
    "Soit l'équation différentielle linéaire à coefficients constants:"
   ]
  },
  {
   "cell_type": "markdown",
   "metadata": {},
   "source": [
    "\\begin{align}\n",
    "\\frac{d^4 f}{dx^4}-5 \\frac{d^2 f}{dx^2}+ 4f = 0\\hspace{5cm} (1)\n",
    "\\end{align}"
   ]
  },
  {
   "cell_type": "markdown",
   "metadata": {},
   "source": [
    "où $f$ est une fonction de la variable $x\\in [0\\ 1]$. Par ailleurs, on a les conditions aux bords suivantes:\n",
    "\n",
    "$$\n",
    "f(0)=a, f'(0)=b, f(1)=c, f'(1)=d \\hspace{3cm} (2)\n",
    "$$"
   ]
  },
  {
   "cell_type": "markdown",
   "metadata": {},
   "source": [
    "## Consignes:\n",
    "    \n",
    "- Pour les questions 4 et 5 prendre $nx=101$ pour discrétiser l'interval $x\\in [0\\ 1]$.\n",
    "- Faites converger les méthodes itératives jusqu'à ce que la différence en norme L2 de deux itérations successives soit $<10^{-8}$."
   ]
  },
  {
   "cell_type": "markdown",
   "metadata": {},
   "source": [
    "### Question 1 (2 points)\n",
    "\n",
    "Quelle est la solution générale de l'équation (1)?"
   ]
  },
  {
   "cell_type": "markdown",
   "metadata": {},
   "source": [
    "<font color='blue'>\n",
    "Supposons une solution de la forme $f(x)=e^{\\lambda x}$ et injectons ce résultat dans l'équation différentielle. Nous obtenons alors:\n",
    "\n",
    "\\begin{align}\n",
    "\\frac{\\partial^4}{\\partial x^4} \\left(e^{\\lambda x}\\right) - 5 \\frac{\\partial^2}{\\partial x^2}\\left(e^{\\lambda x}\\right) + 4\\left(e^{\\lambda x}\\right) & = 0 \\\\\n",
    "\\lambda^4 e^{\\lambda x} - 5\\lambda^2 e^{\\lambda x} + 4e^{\\lambda x} & = 0 \\\\\n",
    "\\end{align}\n",
    "\n",
    "Mettons en évidence notre $e^{\\lambda x}$,\n",
    "\n",
    "\\begin{align}\n",
    "\\left(\\lambda^4 - 5\\lambda^2 + 4 \\right) e^{\\lambda x} & = 0\n",
    "\\end{align}\n",
    "\n",
    "On rejette la solution triviale $e^{\\lambda x}=0$, nous allons rechercher les solutions convergente. Ces solutions ne dépendent donc que de l'équation polynomiale $\\lambda^4  - 5\\lambda^2 + 4=0$. Remarquons que nous résolvons l'équation caractéristique de notre EDO:\n",
    "\n",
    "\\begin{align}\n",
    "& \\left(\\lambda^4 - 5\\lambda^2 + 4 \\right) & = 0\\\\\n",
    "\\iff & \\left(\\lambda - 2\\right)\\left(\\lambda - 1\\right)\\left(\\lambda + 1\\right)\\left(\\lambda + 2\\right) & = 0\n",
    "\\end{align}\n",
    "\n",
    "Lambda a donc pour solutions:\n",
    "\\begin{align}\n",
    "\\lambda & = \\left\\{ -2, -1, 1, 2\\right\\}\n",
    "\\end{align}.\n",
    "\n",
    "\n",
    "La solution générale de notre EDO devient quant à elle\n",
    "\n",
    "\\begin{align}\n",
    "f(x) & = C_1\\cdot e^{-2x} + C_2\\cdot e^{-x} + C_3\\cdot e^{x} + C_4\\cdot e^{2x}\n",
    "\\end{align}\n",
    "<font>"
   ]
  },
  {
   "cell_type": "markdown",
   "metadata": {},
   "source": [
    "### Question 2 (3 points)\n",
    "\n",
    "Ecrire un code en python qui permet d'évaluer les constantes d'intégration de la solution générale en termes des conditions aux bords (2). Pour cette question vous pouvez vous servir de n'importe quelle routine fournie par numpy."
   ]
  },
  {
   "cell_type": "code",
   "execution_count": 3,
   "metadata": {},
   "outputs": [],
   "source": [
    "#on résout un système d'équations linéaires avec linalg\n",
    "def boundaries_solve(bci,bcf,dbci,dbcf):\n",
    "    a=np.array([[1,1,1,1],[np.exp(-2),np.exp(-1),np.exp(1),np.exp(2)],\n",
    "                [-2,-1,1,2],[-2*np.exp(-2),-1*np.exp(-1),np.exp(1),2*np.exp(2)]])\n",
    "    b=np.array([bci,bcf,dbci,dbcf])\n",
    "    x=np.linalg.solve(a,b) #commande qui résout un système linéaire (cf sources)\n",
    "    return x"
   ]
  },
  {
   "cell_type": "markdown",
   "metadata": {},
   "source": [
    "### Question 3 (2 points)\n",
    "\n",
    "Que vaut la solution de l'équation (1) pour $a=0, b=0, c=1, d=-1$. Représentez cette fonction sur un graphique."
   ]
  },
  {
   "cell_type": "code",
   "execution_count": 4,
   "metadata": {},
   "outputs": [
    {
     "name": "stdout",
     "output_type": "stream",
     "text": [
      "3.352281437944153 -5.337391764428322 2.6030495415083523 -0.6179392150241839\n"
     ]
    }
   ],
   "source": [
    "#on résout pour nos conditions aux bords et on utilise la forme analytique de la question 1\n",
    "C1, C2, C3, C4 = boundaries_solve(0,1,0,-1)\n",
    "p0 = C1*np.exp(-2*x)+C2*np.exp(-x)+C3*np.exp(x)+C4*np.exp(2*x)\n",
    "print(C1, C2, C3, C4)"
   ]
  },
  {
   "cell_type": "code",
   "execution_count": 5,
   "metadata": {},
   "outputs": [
    {
     "data": {
      "image/png": "[encoded data removed]",
      "text/plain": [
       "<Figure size 756x540 with 1 Axes>"
      ]
     },
     "metadata": {
      "needs_background": "light"
     },
     "output_type": "display_data"
    }
   ],
   "source": [
    "#--------------------------------- Graphe\n",
    "pyplot.figure(figsize=(10.5,7.5))\n",
    "pyplot.title('Solution analytique de l\\'équation différentielle (1)' )\n",
    "pyplot.xlabel('x')\n",
    "pyplot.ylabel('f(x)')\n",
    "pyplot.plot(x, p0,\n",
    "            color='C0', linestyle='-',linewidth=3)\n",
    "pyplot.xlim(0,1)\n",
    "pyplot.ylim(-0.01,1.1)\n",
    "pyplot.grid()"
   ]
  },
  {
   "cell_type": "markdown",
   "metadata": {},
   "source": [
    "### Question 4 (6 points)\n",
    "\n",
    "Résoudre l'équation (1) avec la méthode Gauss-Seidel vue dans le cours. Combien d'itérations sont nécessaires? Comparer votre solution avec la solution obtenue à la question 3 (graphiquement et en mesurant la norme L2 de la différence)."
   ]
  },
  {
   "cell_type": "markdown",
   "metadata": {},
   "source": [
    "<font color='blue'>\n",
    "    Pour utiliser la méthode de Gauss-Seidel, nous allons tout d'abord définir une discrétisation et les conditions aux bords adaptées à notre problème. Nous réutiliserons certains éléments pour la méthode du conjugate gradient.\n",
    "<font>"
   ]
  },
  {
   "cell_type": "markdown",
   "metadata": {},
   "source": [
    "\n",
    "#### 1. Discrétisation \n",
    "<font color='blue'>\n",
    "    Nous commençons par discrétiser chaque terme de notre équation différentielle. Nous allons utiliser une central finite difference.\n",
    "\n",
    "1.\n",
    "\\begin{align}\n",
    "\\frac{\\partial^2 f}{\\partial x^2} & = \\frac{f_{i-1}-2f_i+f_{i+1}}{\\Delta x^2}\n",
    "\\end{align}\n",
    "\n",
    "2.\n",
    "\\begin{align}\n",
    " \\frac{\\partial^4 f}{\\partial x^4} & = \\frac{\\partial^2}{\\partial x^2}\\left(\\frac{\\partial^2 f}{\\partial x^2}\\right)\\\\ \n",
    "                                   & = \\frac{\\left(\\frac{\\partial^2 f}{\\partial x^2}\\right)_{i-1} -2\\left(\\frac{\\partial^2 f}{\\partial x^2}\\right)_i+\\left(\\frac{\\partial^2 f}{\\partial x^2}\\right)_{i+1}}{\\Delta x^2} \\\\\n",
    "                                   & = \\frac{(f_{i-1}-2f_i+f_{i+1})_{i-1}-2(f_{i-1}-2f_i+f_{i+1})_i+(f_{i-1}-2f_i+f_{i+1})_{i+1}}{\\Delta x^4} \\\\\n",
    "                                   & = \\frac{f_{i-2}-2f_{i-1}+f_i-2f_{i-1}+4f_i-2f_{i+1}+f_i-2f_{i+1}+f_{i+2}}{\\Delta x^4} \\\\\n",
    "                                   & = \\frac{f_{i-2}-4f_{i-1}+6f_i-4f_{i-1}+f_{i+2}}{\\Delta x^4}\n",
    "\\end{align}\n",
    "<font>"
   ]
  },
  {
   "cell_type": "markdown",
   "metadata": {},
   "source": [
    "<font color='blue'>\n",
    "Nous avons donc:\n",
    "\\begin{align}\n",
    "\\frac{\\partial^4 f}{\\partial x^4}-5\\frac{\\partial^2 f}{\\partial x^2}+4f & = \\frac{f_{i-2}-4f_{i-1}+6f_i-4f_{i-1}+f_{i+2}}{\\Delta x^4} + 5\\cdot \\frac{f_{i-1}-2f_i+f_{i+1}}{\\Delta x^2} +4f_i = 0\n",
    "\\end{align}\n",
    "<font>"
   ]
  },
  {
   "cell_type": "markdown",
   "metadata": {},
   "source": [
    "<font color='blue'>\n",
    "Enfin, nous isolons le $f_i$ de notre discrétisation:\n",
    "\n",
    "\\begin{align}\n",
    "f_i &= \\frac{-f_{i-2}+(f_{i-1}+f_{i+1})\\cdot (4+5\\Delta x^2)-f_{i+2}}{6+10 \\Delta x^2 + 4\\Delta x^4}\n",
    "\\end{align}\n",
    "<font>"
   ]
  },
  {
   "cell_type": "markdown",
   "metadata": {},
   "source": [
    "#### 2. Conditions aux bords\n",
    "<font color='blue'>\n",
    "Afin de respecter  nos conditions aux bords de Von Neumann (ceux de Dirichlet étant suffisament explicites dans les énoncés précédentes) nous allons devoir faire un Backward Finite Difference à droite de notre domaine et un Forward Finite Difference à gauche de notre domaine afin de discrétiser nos dérivés. La discrétisation sera effectuée au 2e ordre d'approximation afin d'être compatible avec la norme $L_2$.\n",
    "\n",
    "- FFD:\n",
    "\\begin{align}\n",
    "\\frac{-1.5 f_i + 2 f_{i+1} - 0.5f_{i+2}}{\\Delta x}=0 &\\Rightarrow 0 + 2 f_{i+1} - 0.5f_{i+2} = 0 \\\\\n",
    "                                                   &\\iff f_{i+1} = 0.25 f_{i+2}\n",
    "\\end{align}\n",
    "\n",
    "- BFD:\n",
    "\\begin{align}\n",
    "\\frac{0.5f_{i-2} - 2 f_{i-1} +1.5 f_i }{\\Delta x}=-1 &\\Rightarrow 0.5f_{i-2} - 2 f_{i-1} + 1.5 = -\\Delta x \\\\\n",
    "                                                  &\\iff f_{i-1} = 0.5\\cdot \\Delta x +0.75 +0.25 f_{i-2}\n",
    "\\end{align}\n",
    "<font>"
   ]
  },
  {
   "cell_type": "markdown",
   "metadata": {},
   "source": [
    "#### 3. Définition de l'algorithme de Gauss-Seidel\n",
    "<font color='blue'>\n",
    "Nous avons utilisé @jit de Numba afin de gagner du temps dans nos tests et peaufinements. Cela ne modifie bien évidemment en rien notre réponse finale.\n",
    "<font>"
   ]
  },
  {
   "cell_type": "code",
   "execution_count": 6,
   "metadata": {
    "scrolled": true
   },
   "outputs": [],
   "source": [
    "@jit\n",
    "def gauss_seidel(p0, nx, dx, maxiter=2000000, rtol=l2_target):\n",
    "    \"\"\"\n",
    "    Solves the equation on a uniform grid\n",
    "    with equal grid spacing in both directions\n",
    "    using Gauss-Seidel relaxation method.\n",
    "    \n",
    "    The exit criterion of the solver is based on the relative L2-norm\n",
    "    of the solution difference between two consecutive iterations.\n",
    "    \n",
    "    Parameters\n",
    "    ----------\n",
    "    p0 : numpy.ndarray\n",
    "        The initial solution as a 1D array of floats.\n",
    "    maxiter : integer, optional\n",
    "        Maximum number of iterations to perform;\n",
    "        default: 2000000.\n",
    "    rtol : float, optional\n",
    "        Relative tolerance for convergence;\n",
    "        default: 1e-8.\n",
    "    \n",
    "    Returns\n",
    "    -------\n",
    "    p : numpy.ndarray\n",
    "        The solution after relaxation as a 1D array of floats.\n",
    "    ite : integer\n",
    "        The number of iterations performed.\n",
    "    conv : list\n",
    "        The convergence history as a list of floats.\n",
    "    \"\"\"\n",
    "    p = p0.copy()\n",
    "    conv = []  # convergence history\n",
    "    diff = rtol + 1.0  # initial difference\n",
    "    ite = 0  # iteration index\n",
    "    \n",
    "    while diff > rtol and ite < maxiter:\n",
    "        pn = p.copy()\n",
    "        for i in range(2,nx-2):\n",
    "            p[i]=(-p[i-2]+(p[i-1]+p[i+1])*(4+5*dx**2)-p[i+2])/(6+10*dx**2+4*dx**4)\n",
    "        p[1], p[-2] = 0.25*p[2], 0.25*p[-3]+0.5*dx+0.75     #Von Neumann conditions\n",
    "        diff = L2_rel_error(p, pn)\n",
    "        conv.append(diff)\n",
    "        ite += 1\n",
    "    return p, ite, conv"
   ]
  },
  {
   "cell_type": "markdown",
   "metadata": {},
   "source": [
    "<font color='blue'>\n",
    "Afin de gagner un certain nombre d'itérations, nous avons utilisé, comme matrice de départ, une matrice définissant une droite passant de x=0 à x=1. Cela nous a permis de gagner pratiquement 1 million d'itérations par rapport à une matrice nulle.\n",
    "<font>"
   ]
  },
  {
   "cell_type": "code",
   "execution_count": 7,
   "metadata": {},
   "outputs": [
    {
     "name": "stdout",
     "output_type": "stream",
     "text": [
      "The solution of the equation (1) with the Gauss-Seidel method is (for x in [0,1]): \n",
      " [0.00000000e+00 3.90554208e-04 1.56221683e-03 3.49260917e-03\n",
      " 6.15973145e-03 9.54195157e-03 1.36179938e-02 1.83669274e-02\n",
      " 2.37681560e-02 2.98014059e-02 3.64467155e-02 4.36844242e-02\n",
      " 5.14951618e-02 5.98598375e-02 6.87596294e-02 7.81759737e-02\n",
      " 8.80905544e-02 9.84852928e-02 1.09342337e-01 1.20644051e-01\n",
      " 1.32373007e-01 1.44511971e-01 1.57043896e-01 1.69951912e-01\n",
      " 1.83219314e-01 1.96829553e-01 2.10766228e-01 2.25013072e-01\n",
      " 2.39553948e-01 2.54372834e-01 2.69453818e-01 2.84781083e-01\n",
      " 3.00338905e-01 3.16111638e-01 3.32083705e-01 3.48239591e-01\n",
      " 3.64563835e-01 3.81041015e-01 3.97655746e-01 4.14392667e-01\n",
      " 4.31236431e-01 4.48171701e-01 4.65183135e-01 4.82255383e-01\n",
      " 4.99373073e-01 5.16520807e-01 5.33683148e-01 5.50844615e-01\n",
      " 5.67989673e-01 5.85102722e-01 6.02168092e-01 6.19170034e-01\n",
      " 6.36092708e-01 6.52920181e-01 6.69636409e-01 6.86225239e-01\n",
      " 7.02670392e-01 7.18955460e-01 7.35063895e-01 7.50978999e-01\n",
      " 7.66683920e-01 7.82161639e-01 7.97394963e-01 8.12366519e-01\n",
      " 8.27058740e-01 8.41453861e-01 8.55533906e-01 8.69280685e-01\n",
      " 8.82675778e-01 8.95700534e-01 9.08336054e-01 9.20563188e-01\n",
      " 9.32362522e-01 9.43714371e-01 9.54598769e-01 9.64995460e-01\n",
      " 9.74883885e-01 9.84243179e-01 9.93052156e-01 1.00128930e+00\n",
      " 1.00893275e+00 1.01596031e+00 1.02234940e+00 1.02807709e+00\n",
      " 1.03312007e+00 1.03745462e+00 1.04105661e+00 1.04390153e+00\n",
      " 1.04596442e+00 1.04721988e+00 1.04764205e+00 1.04720464e+00\n",
      " 1.04588086e+00 1.04364344e+00 1.04046460e+00 1.03631605e+00\n",
      " 1.03116899e+00 1.02499405e+00 1.01776133e+00 1.00944033e+00\n",
      " 1.00000000e+00]\n",
      "\n",
      " Gauss-Seidel relaxation: 1643719 iterations to reach a relative difference of 9.999983626772772e-09\n"
     ]
    }
   ],
   "source": [
    "p, ites, conv_gs =gauss_seidel(f_d, nx, dx, maxiter=2000000, rtol=l2_target)\n",
    "print('The solution of the equation (1) with the Gauss-Seidel method is (for x in [0,1]): \\n {}'.format(p))\n",
    "print('\\n Gauss-Seidel relaxation: {} iterations '.format(ites) +\n",
    "      'to reach a relative difference of {}'.format(conv_gs[-1]))"
   ]
  },
  {
   "cell_type": "code",
   "execution_count": 8,
   "metadata": {},
   "outputs": [
    {
     "name": "stdout",
     "output_type": "stream",
     "text": [
      "L'erreur pour la droite comme initial guess donne une erreur en norme L2 = 0.005249\n"
     ]
    },
    {
     "data": {
      "image/png": "[encoded data removed]",
      "text/plain": [
       "<Figure size 756x540 with 1 Axes>"
      ]
     },
     "metadata": {
      "needs_background": "light"
     },
     "output_type": "display_data"
    }
   ],
   "source": [
    "#--------------------------------- Différence en norme L2\n",
    "err=L2_rel_error(p,p0)\n",
    "print(\"L'erreur pour la droite comme initial guess donne une erreur en norme L2 = %f\" % err)\n",
    "#--------------------------------- Graphe\n",
    "pyplot.figure(figsize=(10.5,7.5))\n",
    "pyplot.title('Solution générale de l\\'équation différentielle avec une erreur L2 = %f' % err)\n",
    "pyplot.xlabel('x')\n",
    "pyplot.ylabel('f(x)')\n",
    "pyplot.plot(x, p0, label='Fonction analytique',\n",
    "            color='C0', linestyle='-',linewidth=4)\n",
    "pyplot.plot(x, p,label='Algorithme de Gauss-Seidel',\n",
    "            color='C4', linestyle='dotted',linewidth=4)\n",
    "pyplot.legend(loc='upper left')\n",
    "pyplot.xlim(0,1)\n",
    "pyplot.ylim(-0.1,1.1)\n",
    "pyplot.grid()"
   ]
  },
  {
   "cell_type": "markdown",
   "metadata": {},
   "source": [
    "### Question 5 (7 points)\n",
    "\n",
    "Résoudre l'équation (1) avec la méthode du gradient conjugué vue dans le cours. Combien d'itérations sont nécessaires? Comparer votre solution avec la solution obtenue à la question 3 (graphiquement et en mesurant la norme L2 de la différence)."
   ]
  },
  {
   "cell_type": "code",
   "execution_count": 9,
   "metadata": {},
   "outputs": [
    {
     "name": "stdout",
     "output_type": "stream",
     "text": [
      "Iterations nécessaire au calcul: 2098\n",
      "Iterations nécessaire au calcul: 1723\n"
     ]
    }
   ],
   "source": [
    "def conjugate_gradient(p, dx, l2_target):\n",
    "    \n",
    "    nx= p.shape\n",
    "    r  = np.zeros(nx) # On initie le résidu\n",
    "    Ad  = np.zeros(nx) #  et la matrice \n",
    "    \n",
    "    l2_norm = 1\n",
    "    iterations = 0\n",
    "    l2_conv = []\n",
    "    \n",
    "    #le résidu initial est calculée à partir de p.\n",
    "    #Il faut initier les conditions de von Neumann pour éviter une erreur\n",
    "    \n",
    "    p[1] = 1/4*p[2]\n",
    "    p[-2] = 1/2*(dx + 1.5 + 1/2*p[-3])\n",
    "    \n",
    "    \n",
    "    r[2:-2] = (p[:-4] -4*p[1:-3] + 6*p[2:-2] - 4*p[3:-1] + p[4:])/dx**4 \\\n",
    "                        - 5*(p[1:-3] - 2*p[2:-2] + p[3:-1])/dx**2 + 4*p[2:-2]\n",
    "    \n",
    "    d = r.copy()    #pour la première direction, on la choisit comme exactement le résidu\n",
    "    \n",
    "    #condition de von Neumann pour avoir une direction correcte\n",
    "    \n",
    "    d[1] = 1/4*d[2]\n",
    "    d[-2] = 1/2*(dx + 1.5 + 1/2*d[-3])\n",
    "    \n",
    "    #calcul de alpha pour établir le prochain résidu\n",
    "    rho = np.sum(r*r)\n",
    "    \n",
    "    #produit de A et du vecteur de direction\n",
    "    Ad[2:-2] = (- d[:-4] + 4*d[1:-3] - 6*d[2:-2] + 4*d[3:-1] - d[4:])/dx**4 \\\n",
    "                            + 5*(d[1:-3] - 2*d[2:-2] + d[3:-1])/dx**2 - 4*d[2:-2]\n",
    "    \n",
    "    sigma = np.sum(d*Ad)\n",
    "    \n",
    "    # La boucle d'itération\n",
    "    while l2_norm > l2_target:\n",
    "        \n",
    "        #on stocke la précédente itération\n",
    "        pk = p.copy()\n",
    "        rk = r.copy()\n",
    "        dk = d.copy()\n",
    "        \n",
    "        alpha = rho/sigma\n",
    "        p = pk + alpha*dk\n",
    "        r = rk - alpha*Ad \n",
    "        \n",
    "        #on choisit la nouvelle direction \n",
    "        rhop1 = np.sum(r*r)\n",
    "        beta = rhop1 / rho\n",
    "        rho = rhop1\n",
    "        d = r + beta*dk\n",
    "        \n",
    "        #on calcule les conditions de von Neumann\n",
    "        d[1] = 1/4*d[2]\n",
    "        d[-2] = 1/2*(dx + 1.5 + 1/2*d[-3])\n",
    "        \n",
    "        Ad[2:-2] = (- d[:-4] + 4*d[1:-3] - 6*d[2:-2] + 4*d[3:-1] - d[4:])/dx**4 \\\n",
    "                                + 5*(d[1:-3] - 2*d[2:-2] + d[3:-1])/dx**2 - 4*d[2:-2]\n",
    "        \n",
    "        sigma = np.sum(d*Ad)\n",
    "        \n",
    "        #on compare le nouveau résultat et le précédent\n",
    "        l2_norm = L2_rel_error(pk,p)\n",
    "        iterations += 1\n",
    "        l2_conv.append(l2_norm)\n",
    "        \n",
    "    print('Iterations nécessaire au calcul: %i' % iterations) #La première solution sortante est pour une matrice initiale nulle, la seconde pour une droite\n",
    "    return p, l2_conv\n",
    "\n",
    "CG_0, l2_conv = conjugate_gradient(f_0, dx, l2_target)\n",
    "CG_D, l2_conv = conjugate_gradient(f_d, dx, l2_target)"
   ]
  },
  {
   "cell_type": "code",
   "execution_count": 10,
   "metadata": {},
   "outputs": [
    {
     "name": "stdout",
     "output_type": "stream",
     "text": [
      "L'erreur pour la droite comme initial guess donne une erreur en norme L2 = 0.000221\n"
     ]
    },
    {
     "data": {
      "image/png": "[encoded data removed]",
      "text/plain": [
       "<Figure size 756x540 with 1 Axes>"
      ]
     },
     "metadata": {
      "needs_background": "light"
     },
     "output_type": "display_data"
    }
   ],
   "source": [
    "#--------------------------------- Différence en norme L2\n",
    "#on calcule l'erreur donnée par la méthode CG\n",
    "err_0 = L2_rel_error(CG_0,p0)\n",
    "err_D = L2_rel_error(CG_D,p0)\n",
    "print(\"L'erreur pour la droite comme initial guess donne une erreur en norme L2 = %f\" % err_D) #La seconde erreur est affichée dans le titre du graphique\n",
    "#--------------------------------- Graphe\n",
    "pyplot.figure(figsize=(10.5,7.5))\n",
    "pyplot.title('Solution générale de l\\'équation différentielle avec une erreur L2 = %f' % err_0 )\n",
    "pyplot.xlabel('x')\n",
    "pyplot.ylabel('f(x)')\n",
    "pyplot.plot(x, CG_0, color='C2', linestyle='-', linewidth=3, label='CG with zeros')\n",
    "pyplot.plot(x, CG_D, color='C0', linestyle='dashed', linewidth=5, label='CG with line')\n",
    "pyplot.plot(x, p0, color='C1', linestyle='dotted', linewidth = 3, label='Analytical')\n",
    "pyplot.legend()\n",
    "pyplot.xlim(0,1)\n",
    "pyplot.ylim(-0.1,1.1)\n",
    "pyplot.grid()"
   ]
  },
  {
   "cell_type": "markdown",
   "metadata": {},
   "source": [
    "## Conclusions:\n",
    "<font color='blue'>\n",
    "La méthode de Gauss-Seidel est une méthode longue nécessitant de nombreuses itérations. Elle n'est pas si précise (de l'ordre du $10^{-3}$) et le processus est assez long à (r)exécuter (sans l'aide de numba).\n",
    "\n",
    "A contrario, la méthode du gradient conjugué, même si plus fastidieuse à implémenter, est nettement plus rapide et ne requiert pas d'utiliser d'import supplémentaire pour être efficace. \n",
    "\n",
    "On remarquera également que le choix d'une droite comme guess initial permet une amélioration du nombre d'itérations. Par contre, le CG est moins précis (mais toujours plus que Gauss-Seidel) dans ce cas là. En fonction de ce qui est recherché le choix de la droite ou d'un array de zéro peuvent être considérés.\n",
    "<font>"
   ]
  },
  {
   "cell_type": "markdown",
   "metadata": {},
   "source": [
    "## Source:\n",
    "- https://docs.scipy.org/doc/numpy-1.15.0/reference/generated/numpy.linalg.solve.html\n",
    "- https://en.wikipedia.org/wiki/Finite_difference_coefficient"
   ]
  }
 ],
 "metadata": {
  "kernelspec": {
   "display_name": "Python 3",
   "language": "python",
   "name": "python3"
  },
  "language_info": {
   "codemirror_mode": {
    "name": "ipython",
    "version": 3
   },
   "file_extension": ".py",
   "mimetype": "text/x-python",
   "name": "python",
   "nbconvert_exporter": "python",
   "pygments_lexer": "ipython3",
   "version": "3.7.6"
  }
 },
 "nbformat": 4,
 "nbformat_minor": 4
}

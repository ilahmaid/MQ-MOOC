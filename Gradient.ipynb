{
 "cells": [
  {
   "cell_type": "markdown",
   "metadata": {},
   "source": [
    "## Devoir PHYS-F-302, année académique 2019-2020"
   ]
  },
  {
   "cell_type": "markdown",
   "metadata": {},
   "source": [
    "Soit l'équation différentielle linéaire à coefficients constants:"
   ]
  },
  {
   "cell_type": "markdown",
   "metadata": {},
   "source": [
    "\\begin{align}\n",
    "\\frac{d^4 f}{dx^4}-5 \\frac{d^2 f}{dx^2}+ 4f = 0\\hspace{5cm} (1)\n",
    "\\end{align}"
   ]
  },
  {
   "cell_type": "markdown",
   "metadata": {},
   "source": [
    "où $f$ est une fonction de la variable $x\\in [0\\ 1]$. Par ailleurs, on a les conditions aux bords suivantes:\n",
    "\n",
    "$$\n",
    "f(0)=a, f'(0)=b, f(1)=c, f'(1)=d \\hspace{3cm} (2)\n",
    "$$"
   ]
  },
  {
   "cell_type": "code",
   "execution_count": 1,
   "metadata": {},
   "outputs": [],
   "source": [
    "import numpy as np\n",
    "from matplotlib import pyplot\n",
    "import numba\n",
    "from numba import jit"
   ]
  },
  {
   "cell_type": "markdown",
   "metadata": {},
   "source": [
    "### Question 1 (2 points)\n",
    "\n",
    "Quelle est la solution générale de l'équation (1)?"
   ]
  },
  {
   "cell_type": "markdown",
   "metadata": {},
   "source": [
    "<font color='blue'>\n",
    "Supposons une solution de la forme $f(x)=e^{\\lambda x}$ et injectons ce résultat dans l'équation différentielle. Nous obtenons alors:\n",
    "\n",
    "\\begin{align}\n",
    "\\frac{\\partial^4}{\\partial x^4} \\left(e^{\\lambda x}\\right) - 5 \\frac{\\partial^2}{\\partial x^2}\\left(e^{\\lambda x}\\right) + 4\\left(e^{\\lambda x}\\right) & = 0 \\\\\n",
    "\\lambda^4 \\cdot e^{\\lambda x} - 5\\lambda^2 \\cdot e^{\\lambda x} + 4e^{\\lambda x} & = 0 \\\\\n",
    "\\end{align}\n",
    "\n",
    "Mettons en évidence notre $e^{\\lambda x}$,\n",
    "\n",
    "\\begin{align}\n",
    "\\left(\\lambda^4 - 5\\lambda^2 + 4 \\right) \\left(e^{\\lambda x}\\right) & = 0\n",
    "\\end{align}\n",
    "\n",
    "On rejette la solution triviale $e^{\\lambda x}=0$, nous allons rechercher les solutions convergente. Ces solutions ne dépendent donc que de l'équation polynomiale $\\lambda^4  - 5\\lambda^2 + 4=0$. Remarquons que nous résolvons une équation caractéristique de notre EDO:\n",
    "\n",
    "\\begin{align}\n",
    "& \\left(\\lambda^4 - 5\\lambda^2 + 4 \\right) & = 0\\\\\n",
    "\\iff & \\left(\\lambda - 2\\right)\\left(\\lambda - 1\\right)\\left(\\lambda + 1\\right)\\left(\\lambda + 2\\right) & = 0\n",
    "\\end{align}\n",
    "\n",
    "Lambda a donc pour solutions:\n",
    "\\begin{align}\n",
    "\\lambda & = \\left\\{ -2, -1, 1, 2\\right\\}\n",
    "\\end{align}.\n",
    "\n",
    "\n",
    "La solution générale à notre EDO devient donc\n",
    "\n",
    "\\begin{align}\n",
    "f(x) & = C_1\\cdot e^{-2x} + C_2\\cdot e^{-x} + C_3\\cdot e^{x} + C_4\\cdot e^{2x}\n",
    "\\end{align}\n",
    "<font>"
   ]
  },
  {
   "cell_type": "markdown",
   "metadata": {},
   "source": [
    "### Question 2 (3 points)\n",
    "\n",
    "Ecrire un code en python qui permet d'évaluer les constantes d'intégration de la solution générale en termes des conditions aux bords (2). Pour cette question vous pouvez vous servir de n'importe quelle routine fournie par numpy."
   ]
  },
  {
   "cell_type": "code",
   "execution_count": 8,
   "metadata": {},
   "outputs": [],
   "source": [
    "def boundaries_solve(bci,bcf,dbci,dbcf):\n",
    "    a=np.array([[1,1,1,1],[np.exp(-2),np.exp(-1),np.exp(1),np.exp(2)],\n",
    "                [-2,-1,1,2],[-2*np.exp(-2),-1*np.exp(-1),np.exp(1),2*np.exp(2)]])\n",
    "    b=np.array([bci,bcf,dbci,dbcf])\n",
    "    x=np.linalg.solve(a,b)\n",
    "    return x"
   ]
  },
  {
   "cell_type": "markdown",
   "metadata": {},
   "source": [
    "### Question 3 (2 points)\n",
    "\n",
    "Que vaut la solution de l'équation (1) pour $a=0, b=0, c=1, d=-1$. Représentez cette fonction sur un graphique."
   ]
  },
  {
   "cell_type": "code",
   "execution_count": 12,
   "metadata": {},
   "outputs": [
    {
     "name": "stdout",
     "output_type": "stream",
     "text": [
      "3.352281437944153 -5.337391764428322 2.6030495415083523 -0.6179392150241839\n"
     ]
    }
   ],
   "source": [
    "C1, C2, C3, C4 = boundaries_solve(0,1,0,-1)\n",
    "print(C1,C2,C3,C4)"
   ]
  },
  {
   "cell_type": "code",
   "execution_count": 35,
   "metadata": {},
   "outputs": [
    {
     "name": "stdout",
     "output_type": "stream",
     "text": [
      "[-3.33066907e-16  4.06198103e-04  1.60911384e-03  3.58552636e-03\n",
      "  6.31260149e-03  9.76788027e-03  1.39292676e-02  1.87750210e-02\n",
      "  2.42837398e-02  3.04343538e-02  3.72061130e-02  4.45785767e-02\n",
      "  5.25316031e-02  6.10453388e-02  7.01002087e-02  7.96769060e-02\n",
      "  8.97563818e-02  1.00319836e-01  1.11348705e-01  1.22824657e-01\n",
      "  1.34729576e-01  1.47045558e-01  1.59754899e-01  1.72840084e-01\n",
      "  1.86283782e-01  2.00068831e-01  2.14178235e-01  2.28595153e-01\n",
      "  2.43302885e-01  2.58284872e-01  2.73524680e-01  2.89005992e-01\n",
      "  3.04712605e-01  3.20628413e-01  3.36737406e-01  3.53023654e-01\n",
      "  3.69471305e-01  3.86064573e-01  4.02787730e-01  4.19625096e-01\n",
      "  4.36561034e-01  4.53579938e-01  4.70666228e-01  4.87804337e-01\n",
      "  5.04978707e-01  5.22173778e-01  5.39373980e-01  5.56563725e-01\n",
      "  5.73727398e-01  5.90849348e-01  6.07913882e-01  6.24905254e-01\n",
      "  6.41807654e-01  6.58605208e-01  6.75281960e-01  6.91821868e-01\n",
      "  7.08208795e-01  7.24426500e-01  7.40458628e-01  7.56288705e-01\n",
      "  7.71900122e-01  7.87276134e-01  8.02399846e-01  8.17254206e-01\n",
      "  8.31821994e-01  8.46085816e-01  8.60028090e-01  8.73631041e-01\n",
      "  8.86876691e-01  8.99746847e-01  9.12223092e-01  9.24286778e-01\n",
      "  9.35919012e-01  9.47100652e-01  9.57812288e-01  9.68034242e-01\n",
      "  9.77746550e-01  9.86928956e-01  9.95560897e-01  1.00362150e+00\n",
      "  1.01108956e+00  1.01794355e+00  1.02416157e+00  1.02972138e+00\n",
      "  1.03460038e+00  1.03877556e+00  1.04222354e+00  1.04492051e+00\n",
      "  1.04684228e+00  1.04796420e+00  1.04826119e+00  1.04770770e+00\n",
      "  1.04627775e+00  1.04394484e+00  1.04068199e+00  1.03646173e+00\n",
      "  1.03125605e+00  1.02503640e+00  1.01777371e+00  1.00943832e+00\n",
      "  1.00000000e+00]\n"
     ]
    }
   ],
   "source": [
    "p0=C1*np.exp(-2*x)+C2*np.exp(-x)+C3*np.exp(x)+C4*np.exp(2*x)\n",
    "print(p0)"
   ]
  },
  {
   "cell_type": "code",
   "execution_count": 34,
   "metadata": {},
   "outputs": [
    {
     "name": "stderr",
     "output_type": "stream",
     "text": [
      "No handles with labels found to put in legend.\n"
     ]
    },
    {
     "data": {
      "image/png": "[encoded data removed]",
      "text/plain": [
       "<Figure size 756x540 with 1 Axes>"
      ]
     },
     "metadata": {
      "needs_background": "light"
     },
     "output_type": "display_data"
    }
   ],
   "source": [
    "nx=101\n",
    "x=np.linspace(0.,1.,nx)\n",
    "#--------------------------------- Graphe\n",
    "pyplot.figure(figsize=(10.5,7.5))\n",
    "pyplot.title('Solution générale de l\\'équation différentielle (1)' )\n",
    "pyplot.xlabel('x')\n",
    "pyplot.ylabel('f(x)')\n",
    "pyplot.plot(x, p0, label='',\n",
    "            color='C0', linestyle='-',linewidth=3)\n",
    "pyplot.legend(loc='upper left')\n",
    "pyplot.xlim(0,1)\n",
    "pyplot.ylim(-0.01,1.1)\n",
    "pyplot.grid()"
   ]
  },
  {
   "cell_type": "markdown",
   "metadata": {},
   "source": [
    "### Question 4 (6 points)\n",
    "\n",
    "Résoudre l'équation (1) avec la méthode Gauss-Seidel vue dans le cours. Combien d'itérations sont nécessaires? Comparer votre solution avec la solution obtenue à la question 3 (graphiquement et en mesurant la norme L2 de la différence).\n",
    "\n",
    "### Question 5 (7 points)\n",
    "\n",
    "Résoudre l'équation (1) avec la méthode du gradient conjugué vue dans le cours. Combien d'itérations sont nécessaires? Comparer votre solution avec la solution obtenue à la question 3 (graphiquement et en mesurant la norme L2 de la différence)."
   ]
  },
  {
   "cell_type": "markdown",
   "metadata": {},
   "source": [
    "## Consignes:\n",
    "    \n",
    "- Pour les questions 4 et 5 prendre $nx=101$ pour discrétiser l'interval $x\\in [0\\ 1]$.\n",
    "- Faites converger les méthodes itératives jusqu'à ce que la différence en norme L2 de deux itérations successives soit $<10^{-8}$."
   ]
  },
  {
   "cell_type": "code",
   "execution_count": null,
   "metadata": {},
   "outputs": [],
   "source": []
  },
  {
   "cell_type": "code",
   "execution_count": 16,
   "metadata": {},
   "outputs": [],
   "source": [
    "def L2_rel_error(p, pn):\n",
    "    ''' Compute the relative L2 norm of the difference\n",
    "    Parameters:\n",
    "    ----------\n",
    "    p : array of float\n",
    "        array 1\n",
    "    pn: array of float\n",
    "        array 2\n",
    "    Returns:\n",
    "    -------\n",
    "    Relative L2 norm of the difference\n",
    "    '''\n",
    "    return np.sqrt(np.sum((p - pn)**2)/np.sum(pn**2))"
   ]
  },
  {
   "cell_type": "code",
   "execution_count": 29,
   "metadata": {},
   "outputs": [],
   "source": [
    "nx=101\n",
    "x=np.linspace(0.,1.,nx)\n",
    "def laplace_2d_gauss_seidel(p0, nx, maxiter=30000, rtol=1e-8):\n",
    "    \"\"\"\n",
    "    Solves the 2D Laplace equation on a uniform grid\n",
    "    with equal grid spacing in both directions\n",
    "    using Gauss-Seidel relaxation method.\n",
    "    \n",
    "    The exit criterion of the solver is based on the relative L2-norm\n",
    "    of the solution difference between two consecutive iterations.\n",
    "    \n",
    "    Parameters\n",
    "    ----------\n",
    "    p0 : numpy.ndarray\n",
    "        The initial solution as a 2D array of floats.\n",
    "    maxiter : integer, optional\n",
    "        Maximum number of iterations to perform;\n",
    "        default: 20000.\n",
    "    rtol : float, optional\n",
    "        Relative tolerance for convergence;\n",
    "        default: 1e-6.\n",
    "    \n",
    "    Returns\n",
    "    -------\n",
    "    p : numpy.ndarray\n",
    "        The solution after relaxation as a 2D array of floats.\n",
    "    ite : integer\n",
    "        The number of iterations performed.\n",
    "    conv : list\n",
    "        The convergence history as a list of floats.\n",
    "    \"\"\"\n",
    "    p = p0.copy()\n",
    "    conv = []  # convergence history\n",
    "    diff = rtol + 1.0  # initial difference\n",
    "    ite = 0  # iteration index\n",
    "    while diff > rtol and ite < maxiter:\n",
    "        pn = p.copy()\n",
    "        # Update the solution at interior points.\n",
    "        for i in range(1, nx - 1):\n",
    "            p[i] = 0.5 * (p[i - 1] + p[i + 1])\n",
    "        diff = L2_rel_error(p, pn)\n",
    "        conv.append(diff)\n",
    "        ite += 1\n",
    "    return p, ite, conv"
   ]
  },
  {
   "cell_type": "code",
   "execution_count": 41,
   "metadata": {},
   "outputs": [
    {
     "name": "stdout",
     "output_type": "stream",
     "text": [
      "The solution of the equation (1) with the Gauss-Seidel method is (for x in [0,1]): \n",
      " [-3.33066907e-16  1.00002680e-02  2.00005354e-02  3.00008020e-02\n",
      "  4.00010676e-02  5.00013318e-02  6.00015945e-02  7.00018554e-02\n",
      "  8.00021141e-02  9.00023706e-02  1.00002624e-01  1.10002875e-01\n",
      "  1.20003123e-01  1.30003368e-01  1.40003609e-01  1.50003846e-01\n",
      "  1.60004079e-01  1.70004308e-01  1.80004533e-01  1.90004752e-01\n",
      "  2.00004967e-01  2.10005177e-01  2.20005382e-01  2.30005580e-01\n",
      "  2.40005774e-01  2.50005961e-01  2.60006142e-01  2.70006317e-01\n",
      "  2.80006486e-01  2.90006648e-01  3.00006803e-01  3.10006952e-01\n",
      "  3.20007093e-01  3.30007228e-01  3.40007355e-01  3.50007474e-01\n",
      "  3.60007586e-01  3.70007691e-01  3.80007788e-01  3.90007877e-01\n",
      "  4.00007958e-01  4.10008032e-01  4.20008097e-01  4.30008154e-01\n",
      "  4.40008203e-01  4.50008245e-01  4.60008277e-01  4.70008302e-01\n",
      "  4.80008318e-01  4.90008327e-01  5.00008327e-01  5.10008319e-01\n",
      "  5.20008302e-01  5.30008277e-01  5.40008245e-01  5.50008204e-01\n",
      "  5.60008155e-01  5.70008098e-01  5.80008033e-01  5.90007961e-01\n",
      "  6.00007880e-01  6.10007792e-01  6.20007696e-01  6.30007593e-01\n",
      "  6.40007482e-01  6.50007364e-01  6.60007239e-01  6.70007107e-01\n",
      "  6.80006968e-01  6.90006823e-01  7.00006670e-01  7.10006512e-01\n",
      "  7.20006347e-01  7.30006175e-01  7.40005998e-01  7.50005816e-01\n",
      "  7.60005627e-01  7.70005434e-01  7.80005235e-01  7.90005031e-01\n",
      "  8.00004822e-01  8.10004609e-01  8.20004392e-01  8.30004170e-01\n",
      "  8.40003945e-01  8.50003716e-01  8.60003483e-01  8.70003247e-01\n",
      "  8.80003008e-01  8.90002767e-01  9.00002523e-01  9.10002277e-01\n",
      "  9.20002028e-01  9.30001778e-01  9.40001527e-01  9.50001274e-01\n",
      "  9.60001020e-01  9.70000766e-01  9.80000511e-01  9.90000255e-01\n",
      "  1.00000000e+00]\n",
      "Gauss-Seidel relaxation: 9692 iterations to reach a relative difference of 9.997522625147015e-09\n"
     ]
    }
   ],
   "source": [
    "p, ites, conv_gs =laplace_2d_gauss_seidel(p0, nx, maxiter=30000, rtol=1e-8)\n",
    "print('The solution of the equation (1) with the Gauss-Seidel method is (for x in [0,1]): \\n {}'.format(p))\n",
    "print('Gauss-Seidel relaxation: {} iterations '.format(ites) +\n",
    "      'to reach a relative difference of {}'.format(conv_gs[-1]))"
   ]
  },
  {
   "cell_type": "code",
   "execution_count": null,
   "metadata": {},
   "outputs": [],
   "source": []
  }
 ],
 "metadata": {
  "kernelspec": {
   "display_name": "Python 3",
   "language": "python",
   "name": "python3"
  },
  "language_info": {
   "codemirror_mode": {
    "name": "ipython",
    "version": 3
   },
   "file_extension": ".py",
   "mimetype": "text/x-python",
   "name": "python",
   "nbconvert_exporter": "python",
   "pygments_lexer": "ipython3",
   "version": "3.7.6"
  }
 },
 "nbformat": 4,
 "nbformat_minor": 4
}

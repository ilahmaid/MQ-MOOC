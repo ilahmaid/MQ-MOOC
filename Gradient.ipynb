{
 "cells": [
  {
   "cell_type": "markdown",
   "metadata": {},
   "source": [
    "## Devoir PHYS-F-302, année académique 2019-2020"
   ]
  },
  {
   "cell_type": "markdown",
   "metadata": {},
   "source": [
    "Soit l'équation différentielle linéaire à coefficients constants:"
   ]
  },
  {
   "cell_type": "markdown",
   "metadata": {},
   "source": [
    "\\begin{align}\n",
    "\\frac{d^4 f}{dx^4}-5 \\frac{d^2 f}{dx^2}+ 4f = 0\\hspace{5cm} (1)\n",
    "\\end{align}"
   ]
  },
  {
   "cell_type": "markdown",
   "metadata": {},
   "source": [
    "où $f$ est une fonction de la variable $x\\in [0\\ 1]$. Par ailleurs, on a les conditions aux bords suivantes:\n",
    "\n",
    "$$\n",
    "f(0)=a, f'(0)=b, f(1)=c, f'(1)=d \\hspace{3cm} (2)\n",
    "$$"
   ]
  },
  {
   "cell_type": "code",
   "execution_count": 10,
   "metadata": {},
   "outputs": [],
   "source": [
    "import numpy as np\n",
    "from matplotlib import pyplot\n",
    "import numba\n",
    "from numba import jit\n",
    "\n",
    "# Paramètres\n",
    "nx = 101\n",
    "xmin = 0\n",
    "xmax = 1\n",
    "\n",
    "l2_target = 1e-8\n",
    "\n",
    "dx =(xmax-xmin)/(nx-1)\n",
    "x = np.linspace(xmin,xmax,nx)\n",
    "\n",
    "f_i = np.zeros(nx)\n",
    "f_i[-1] = 1\n",
    "\n",
    "#erreur en norme L2\n",
    "def L2_rel_error(p, pn):\n",
    "    ''' Compute the relative L2 norm of the difference\n",
    "    Parameters:\n",
    "    ----------\n",
    "    p : array of float\n",
    "        array 1\n",
    "    pn: array of float\n",
    "        array 2\n",
    "    Returns:\n",
    "    -------\n",
    "    Relative L2 norm of the difference\n",
    "    '''\n",
    "    return np.sqrt(np.sum((p - pn)**2)/np.sum(pn**2))"
   ]
  },
  {
   "cell_type": "markdown",
   "metadata": {},
   "source": [
    "### Question 1 (2 points)\n",
    "\n",
    "Quelle est la solution générale de l'équation (1)?"
   ]
  },
  {
   "cell_type": "markdown",
   "metadata": {},
   "source": [
    "<font color='blue'>\n",
    "Supposons une solution de la forme $f(x)=e^{\\lambda x}$ et injectons ce résultat dans l'équation différentielle. Nous obtenons alors:\n",
    "\n",
    "\\begin{align}\n",
    "\\frac{\\partial^4}{\\partial x^4} \\left(e^{\\lambda x}\\right) - 5 \\frac{\\partial^2}{\\partial x^2}\\left(e^{\\lambda x}\\right) + 4\\left(e^{\\lambda x}\\right) & = 0 \\\\\n",
    "\\lambda^4 \\cdot e^{\\lambda x} - 5\\lambda^2 \\cdot e^{\\lambda x} + 4e^{\\lambda x} & = 0 \\\\\n",
    "\\end{align}\n",
    "\n",
    "Mettons en évidence notre $e^{\\lambda x}$,\n",
    "\n",
    "\\begin{align}\n",
    "\\left(\\lambda^4 - 5\\lambda^2 + 4 \\right) \\left(e^{\\lambda x}\\right) & = 0\n",
    "\\end{align}\n",
    "\n",
    "On rejette la solution triviale $e^{\\lambda x}=0$, nous allons rechercher les solutions convergente. Ces solutions ne dépendent donc que de l'équation polynomiale $\\lambda^4  - 5\\lambda^2 + 4=0$. Remarquons que nous résolvons une équation caractéristique de notre EDO:\n",
    "\n",
    "\\begin{align}\n",
    "& \\left(\\lambda^4 - 5\\lambda^2 + 4 \\right) & = 0\\\\\n",
    "\\iff & \\left(\\lambda - 2\\right)\\left(\\lambda - 1\\right)\\left(\\lambda + 1\\right)\\left(\\lambda + 2\\right) & = 0\n",
    "\\end{align}\n",
    "\n",
    "Lambda a donc pour solutions:\n",
    "\\begin{align}\n",
    "\\lambda & = \\left\\{ -2, -1, 1, 2\\right\\}\n",
    "\\end{align}.\n",
    "\n",
    "\n",
    "La solution générale à notre EDO devient donc\n",
    "\n",
    "\\begin{align}\n",
    "f(x) & = C_1\\cdot e^{-2x} + C_2\\cdot e^{-x} + C_3\\cdot e^{x} + C_4\\cdot e^{2x}\n",
    "\\end{align}\n",
    "<font>"
   ]
  },
  {
   "cell_type": "markdown",
   "metadata": {},
   "source": [
    "### Question 2 (3 points)\n",
    "\n",
    "Ecrire un code en python qui permet d'évaluer les constantes d'intégration de la solution générale en termes des conditions aux bords (2). Pour cette question vous pouvez vous servir de n'importe quelle routine fournie par numpy."
   ]
  },
  {
   "cell_type": "code",
   "execution_count": 11,
   "metadata": {},
   "outputs": [],
   "source": [
    "#on résout un système d'équations linéaires avec linalg\n",
    "def boundaries_solve(bci,bcf,dbci,dbcf):\n",
    "    a=np.array([[1,1,1,1],[np.exp(-2),np.exp(-1),np.exp(1),np.exp(2)],\n",
    "                [-2,-1,1,2],[-2*np.exp(-2),-1*np.exp(-1),np.exp(1),2*np.exp(2)]])\n",
    "    b=np.array([bci,bcf,dbci,dbcf])\n",
    "    x=np.linalg.solve(a,b)\n",
    "    return x"
   ]
  },
  {
   "cell_type": "markdown",
   "metadata": {},
   "source": [
    "### Question 3 (2 points)\n",
    "\n",
    "Que vaut la solution de l'équation (1) pour $a=0, b=0, c=1, d=-1$. Représentez cette fonction sur un graphique."
   ]
  },
  {
   "cell_type": "code",
   "execution_count": 21,
   "metadata": {},
   "outputs": [],
   "source": [
    "#on résout pour nos conditions aux bords et on utilise la forme analytique de la question 1\n",
    "C1, C2, C3, C4 = boundaries_solve(0,1,0,-1)\n",
    "p0 = C1*np.exp(-2*x)+C2*np.exp(-x)+C3*np.exp(x)+C4*np.exp(2*x)"
   ]
  },
  {
   "cell_type": "code",
   "execution_count": 13,
   "metadata": {},
   "outputs": [
    {
     "data": {
      "image/png": "[encoded data removed]",
      "text/plain": [
       "<Figure size 756x540 with 1 Axes>"
      ]
     },
     "metadata": {
      "needs_background": "light"
     },
     "output_type": "display_data"
    }
   ],
   "source": [
    "#--------------------------------- Graphe\n",
    "pyplot.figure(figsize=(10.5,7.5))\n",
    "pyplot.title('Solution générale de l\\'équation différentielle (1)' )\n",
    "pyplot.xlabel('x')\n",
    "pyplot.ylabel('f(x)')\n",
    "pyplot.plot(x, p0,\n",
    "            color='C0', linestyle='-',linewidth=3)\n",
    "pyplot.xlim(0,1)\n",
    "pyplot.ylim(-0.01,1.1)\n",
    "pyplot.grid()"
   ]
  },
  {
   "cell_type": "markdown",
   "metadata": {},
   "source": [
    "### Question 4 (6 points)\n",
    "\n",
    "Résoudre l'équation (1) avec la méthode Gauss-Seidel vue dans le cours. Combien d'itérations sont nécessaires? Comparer votre solution avec la solution obtenue à la question 3 (graphiquement et en mesurant la norme L2 de la différence).\n",
    "\n",
    "### Question 5 (7 points)\n",
    "\n",
    "Résoudre l'équation (1) avec la méthode du gradient conjugué vue dans le cours. Combien d'itérations sont nécessaires? Comparer votre solution avec la solution obtenue à la question 3 (graphiquement et en mesurant la norme L2 de la différence)."
   ]
  },
  {
   "cell_type": "markdown",
   "metadata": {},
   "source": [
    "On commence par définir la fonction du gradient conjugué. Les conditions aux bords doivent être appliquées de la même manière que pourr Gauss-Seidel. Remarquons qu'on doit quand même le faire pour $ \\vec {d} $ au risque d'avoir une réponse erronée."
   ]
  },
  {
   "cell_type": "code",
   "execution_count": 19,
   "metadata": {},
   "outputs": [
    {
     "name": "stdout",
     "output_type": "stream",
     "text": [
      "Iterations nécessaire au calcul: 2098\n"
     ]
    }
   ],
   "source": [
    "def conjugate_gradient(p, dx, l2_target):\n",
    "    \n",
    "    nx= p.shape\n",
    "    r  = np.zeros(nx) # On initie le residu\n",
    "    Ad  = np.zeros(nx) #  et la matrice \n",
    "    \n",
    "    l2_norm = 1\n",
    "    iterations = 0\n",
    "    l2_conv = []\n",
    "    \n",
    "    #le résidu initial est calculée à partir de p.\n",
    "    #Il faut initier les conditions de von Neumann pour éviter une erreur\n",
    "    \n",
    "    p[1] = 1/4*p[2]\n",
    "    p[-2] = 1/2*(dx + 1.5 + 1/2*p[-3])\n",
    "    \n",
    "    \n",
    "    r[2:-2] = (p[:-4] -4*p[1:-3] + 6*p[2:-2] - 4*p[3:-1] + p[4:])/dx**4 \\\n",
    "                        - 5*(p[1:-3] - 2*p[2:-2] + p[3:-1])/dx**2 + 4*p[2:-2]\n",
    "    \n",
    "    d = r.copy()    #pour la première direction, on la choisit comme exactement le résidu\n",
    "    \n",
    "    #condition de von Neumann pour avoir une direction correcte\n",
    "    \n",
    "    d[1] = 1/4*d[2]\n",
    "    d[-2] = 1/2*(dx + 1.5 + 1/2*d[-3])\n",
    "    \n",
    "    #calcul de alpha pour établir le prochain résidu\n",
    "    rho = np.sum(r*r)\n",
    "    \n",
    "    #produit de A et du vecteur de direction\n",
    "    Ad[2:-2] = (- d[:-4] + 4*d[1:-3] - 6*d[2:-2] + 4*d[3:-1] - d[4:])/dx**4 \\\n",
    "                            + 5*(d[1:-3] - 2*d[2:-2] + d[3:-1])/dx**2 - 4*d[2:-2]\n",
    "    \n",
    "    sigma = np.sum(d*Ad)\n",
    "    \n",
    "    # La boucle d'itération\n",
    "    while l2_norm > l2_target:\n",
    "        \n",
    "        #on stocke la précédente itération\n",
    "        pk = p.copy()\n",
    "        rk = r.copy()\n",
    "        dk = d.copy()\n",
    "        \n",
    "        alpha = rho/sigma\n",
    "        p = pk + alpha*dk\n",
    "        r = rk - alpha*Ad \n",
    "        \n",
    "        #on choisit la nouvelle direction \n",
    "        rhop1 = np.sum(r*r)\n",
    "        beta = rhop1 / rho\n",
    "        rho = rhop1\n",
    "        d = r + beta*dk\n",
    "        \n",
    "        #on calcule les conditions de von Neumann\n",
    "        d[1] = 1/4*d[2]\n",
    "        d[-2] = 1/2*(dx + 1.5 + 1/2*d[-3])\n",
    "        \n",
    "        Ad[2:-2] = (- d[:-4] + 4*d[1:-3] - 6*d[2:-2] + 4*d[3:-1] - d[4:])/dx**4 \\\n",
    "                                + 5*(d[1:-3] - 2*d[2:-2] + d[3:-1])/dx**2 - 4*d[2:-2]\n",
    "        \n",
    "        sigma = np.sum(d*Ad)\n",
    "        \n",
    "        #on compare le nouveau résultat et le précédent\n",
    "        l2_norm = L2_rel_error(pk,p)\n",
    "        iterations += 1\n",
    "        l2_conv.append(l2_norm)\n",
    "        \n",
    "    print('Iterations nécessaire au calcul: %i' % iterations)\n",
    "    return p, l2_conv\n",
    "\n",
    "CG, l2_conv = conjugate_gradient(f_i, dx, l2_target)"
   ]
  },
  {
   "cell_type": "code",
   "execution_count": 20,
   "metadata": {},
   "outputs": [
    {
     "data": {
      "image/png": "[encoded data removed]",
      "text/plain": [
       "<Figure size 756x540 with 1 Axes>"
      ]
     },
     "metadata": {
      "needs_background": "light"
     },
     "output_type": "display_data"
    }
   ],
   "source": [
    "#on calcule l'erreur donnée par la méthode CG\n",
    "err = L2_rel_error(CG,p0)\n",
    "\n",
    "#--------------------------------- Graphe\n",
    "pyplot.figure(figsize=(10.5,7.5))\n",
    "pyplot.title('Solution générale de l\\'équation différentielle avec une erreur L2 = %f' % err )\n",
    "pyplot.xlabel('x')\n",
    "pyplot.ylabel('f(x)')\n",
    "pyplot.plot(x, CG, color='C0', linestyle='-', linewidth=3, label='CG')\n",
    "pyplot.plot(x, p0, color='C1', linestyle='dotted', linewidth = 3, label='Analytical')\n",
    "pyplot.legend()\n",
    "pyplot.xlim(0,1)\n",
    "pyplot.ylim(-0.1,1.1)\n",
    "pyplot.grid()\n"
   ]
  },
  {
   "cell_type": "markdown",
   "metadata": {},
   "source": [
    "**Conclusions: **\n",
    "\n",
    "La méthode de Gauss-Seidel est une méthode longue nécessitant de nombreuses itérations. Elle n'est même pas si précise étant donnée le temps qu'elle prend à faire. A contrario, la méthode du gradient conjugué, même si plus fastidieuse à implémenter, est nettement plus rapide et ne requiert pas d'utiliser d'import supplémentaire comme Numba pour être efficace. \n",
    "Le Gradient Conjugué est donc une méthode à favoriser dans la résolution d'équations différentielles de"
   ]
  },
  {
   "cell_type": "code",
   "execution_count": null,
   "metadata": {},
   "outputs": [],
   "source": []
  }
 ],
 "metadata": {
  "kernelspec": {
   "display_name": "Python 3",
   "language": "python",
   "name": "python3"
  },
  "language_info": {
   "codemirror_mode": {
    "name": "ipython",
    "version": 3
   },
   "file_extension": ".py",
   "mimetype": "text/x-python",
   "name": "python",
   "nbconvert_exporter": "python",
   "pygments_lexer": "ipython3",
   "version": "3.7.4"
  }
 },
 "nbformat": 4,
 "nbformat_minor": 4
}
